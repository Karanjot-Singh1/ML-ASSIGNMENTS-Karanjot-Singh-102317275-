{
  "nbformat": 4,
  "nbformat_minor": 0,
  "metadata": {
    "colab": {
      "provenance": []
    },
    "kernelspec": {
      "name": "python3",
      "display_name": "Python 3"
    },
    "language_info": {
      "name": "python"
    }
  },
  "cells": [
    {
      "cell_type": "markdown",
      "source": [
        " **Name -Karanjot Singh**\n",
        "\n",
        "**Roll No. - 102317275**\n",
        "\n",
        "**Subgroup - 3Q-11**"
      ],
      "metadata": {
        "id": "1_sK_dAP9V42"
      }
    },
    {
      "cell_type": "markdown",
      "source": [
        " **Assignment-1**\n",
        "\n",
        "**Based on NumPy**"
      ],
      "metadata": {
        "id": "Ouycml939Jau"
      }
    },
    {
      "cell_type": "markdown",
      "source": [
        "a) Reverse the NumPy array: arr = np.array([1, 2, 3, 6, 4, 5])"
      ],
      "metadata": {
        "id": "W4otJG_F9naM"
      }
    },
    {
      "cell_type": "code",
      "execution_count": 5,
      "metadata": {
        "colab": {
          "base_uri": "https://localhost:8080/"
        },
        "id": "aFlNuVFe7Gye",
        "outputId": "847f7e50-49d2-4de9-9d4f-e7a6ece64c75"
      },
      "outputs": [
        {
          "output_type": "stream",
          "name": "stdout",
          "text": [
            "[1 2 3 6 4 5]\n",
            "[5 4 6 3 2 1]\n"
          ]
        }
      ],
      "source": [
        "import numpy as np\n",
        "arr=np.array([1,2,3,6,4,5])\n",
        "print(arr)\n",
        "arr[:]=arr[::-1]\n",
        "print(arr)"
      ]
    },
    {
      "cell_type": "markdown",
      "source": [
        "b) Flatten the NumPy arr: array1 = np.array([[1, 2, 3], [2, 4, 5], [1, 2, 3]]) using any two\n",
        "NumPy in-built methods"
      ],
      "metadata": {
        "id": "H1x0MrJL9rdV"
      }
    },
    {
      "cell_type": "code",
      "source": [
        "import numpy as np\n",
        "arr=np.array([[1,2,3],[2,4,5],[1,2,3]])\n",
        "print(arr)\n",
        "print()\n",
        "print(arr.flatten())"
      ],
      "metadata": {
        "colab": {
          "base_uri": "https://localhost:8080/"
        },
        "id": "wZPz04LM9vwk",
        "outputId": "113efc72-955b-4ed5-f23c-a64313564b7d"
      },
      "execution_count": 9,
      "outputs": [
        {
          "output_type": "stream",
          "name": "stdout",
          "text": [
            "[[1 2 3]\n",
            " [2 4 5]\n",
            " [1 2 3]]\n",
            "\n",
            "[1 2 3 2 4 5 1 2 3]\n"
          ]
        }
      ]
    },
    {
      "cell_type": "markdown",
      "source": [
        "c) Compare the following numpy arrays:\n",
        "\n",
        "arr1 = np.array([[1, 2], [3, 4]])\n",
        "\n",
        "arr2 = np.array([[1, 2], [3, 4]])"
      ],
      "metadata": {
        "id": "cSVN-zAe-QAo"
      }
    },
    {
      "cell_type": "code",
      "source": [
        "import numpy as np\n",
        "arr1=np.array([[1,2],[3,4]])\n",
        "arr2=np.array([[1,2],[3,4]])\n",
        "print(np.array_equal(arr1, arr2))"
      ],
      "metadata": {
        "colab": {
          "base_uri": "https://localhost:8080/"
        },
        "id": "vh4Ft52O-KOU",
        "outputId": "ecb0b5f4-781c-4efb-cf33-2b77dc522cdc"
      },
      "execution_count": 10,
      "outputs": [
        {
          "output_type": "stream",
          "name": "stdout",
          "text": [
            "True\n"
          ]
        }
      ]
    },
    {
      "cell_type": "markdown",
      "source": [
        "d) Find the most frequent value and their indice(s) in the following arrays:\n",
        "\n",
        "i. x = np.array([1,2,3,4,5,1,2,1,1,1])\n",
        "\n",
        "ii. y = np.array([1, 1, 1, 2, 3, 4, 2, 4, 3, 3, ])"
      ],
      "metadata": {
        "id": "iaQXQu0q-bVH"
      }
    },
    {
      "cell_type": "code",
      "source": [
        "import numpy as np\n",
        "x=np.array([1,2,3,4,5,1,2,1,1,1])\n",
        "counts=np.bincount(x)\n",
        "print(counts)\n",
        "maxi=0\n",
        "ele=0\n",
        "for i in range (counts.size):\n",
        "  if(counts[i]>maxi):\n",
        "    maxi=counts[i]\n",
        "    ele=i\n",
        "print(ele)\n",
        "\n",
        "\n",
        "y=np.array([1,1,1,2,3,4,2,4,3,3])\n",
        "counts=np.bincount(y)\n",
        "print(counts)\n",
        "maxi=0\n",
        "ele=0\n",
        "for i in range (counts.size):\n",
        "  if(counts[i]>maxi):\n",
        "    maxi=counts[i]\n",
        "    ele=i\n",
        "print(ele)\n",
        "\n"
      ],
      "metadata": {
        "colab": {
          "base_uri": "https://localhost:8080/"
        },
        "id": "VdwvZ4X3-WG_",
        "outputId": "26c5494a-9749-467e-f425-ca54c571e745"
      },
      "execution_count": 21,
      "outputs": [
        {
          "output_type": "stream",
          "name": "stdout",
          "text": [
            "[0 5 2 1 1 1]\n",
            "1\n",
            "[0 3 2 3 2]\n",
            "1\n"
          ]
        }
      ]
    },
    {
      "cell_type": "markdown",
      "source": [
        "e) For the array gfg = np.matrix('[4, 1, 9; 12, 3, 1; 4, 5, 6]'), find\n",
        "\n",
        "i. Sum of all elements\n",
        "\n",
        "ii. Sum of all elements row-wise\n",
        "\n",
        "iii. Sum of all elements column-wise\\"
      ],
      "metadata": {
        "id": "J2TJECQdBjOR"
      }
    },
    {
      "cell_type": "code",
      "source": [
        "import numpy as np\n",
        "gfg=np.matrix('[4,1,9;12,3,1;4,5,6]')\n",
        "arr=np.array(gfg)\n",
        "arr=arr.flatten()\n",
        "print(\"The array is : \",arr)\n",
        "print()\n",
        "sum=0\n",
        "for i in arr:\n",
        "  sum=sum+i\n",
        "print(\"sum of all ele is \",sum)\n",
        "print()\n",
        "sum=0\n",
        "i,j=gfg.shape\n",
        "for ii in range(i):\n",
        "  for jj in range(j):\n",
        "    sum=sum+gfg[ii,jj]\n",
        "  print(\"sum of row wise ele are : \" ,sum)\n",
        "  sum=0\n",
        "\n",
        "print()\n",
        "sum=0\n",
        "for jj in range(j):\n",
        "  for ii in range(i):\n",
        "    sum=sum+gfg[ii,jj]\n",
        "  print(\"sum of coloumn wise ele are : \" ,sum)\n",
        "  sum=0"
      ],
      "metadata": {
        "colab": {
          "base_uri": "https://localhost:8080/"
        },
        "id": "mGBuj6-jBpeQ",
        "outputId": "c0d1ff8e-aa8e-4ae5-dfb7-b09ee33f6050"
      },
      "execution_count": 39,
      "outputs": [
        {
          "output_type": "stream",
          "name": "stdout",
          "text": [
            "The array is :  [ 4  1  9 12  3  1  4  5  6]\n",
            "\n",
            "sum of all ele is  45\n",
            "\n",
            "sum of row wise ele are :  14\n",
            "sum of row wise ele are :  16\n",
            "sum of row wise ele are :  15\n",
            "\n",
            "sum of coloumn wise ele are :  20\n",
            "sum of coloumn wise ele are :  9\n",
            "sum of coloumn wise ele are :  16\n"
          ]
        }
      ]
    },
    {
      "cell_type": "markdown",
      "source": [
        "f) For the matrix: n_array = np.array([[55, 25, 15],[30, 44, 2],[11, 45, 77]]),\n",
        "find\n",
        "\n",
        "i. Sum of diagonal elements\n",
        "\n",
        "ii. Eigen values of matrix\n",
        "\n",
        "iii. Eigen vectors of matrix\n",
        "\n",
        "iv. Inverse of matrix\n",
        "\n",
        "v. Determinant of matrix"
      ],
      "metadata": {
        "id": "GwKlCcDWEdTK"
      }
    },
    {
      "cell_type": "code",
      "source": [
        "import numpy as np\n",
        "n_array=np.array([[55,25,15],[30,44,2],[11,45,77]])\n",
        "i,j=n_array.shape\n",
        "sum=0\n",
        "for ii in range (i):\n",
        "  for jj in range (j):\n",
        "    if(ii==jj):\n",
        "      sum=sum+n_array[ii,jj]\n",
        "\n",
        "print(\"The sum of diagonal values are: \",sum)\n",
        "print()\n",
        "eigenvalues,eigenvectors=np.linalg.eig(n_array)\n",
        "print(\"Eigenvalues are:\")\n",
        "print()\n",
        "print(eigenvalues)\n",
        "print()\n",
        "print(\"Eigenvectors are:\")\n",
        "print()\n",
        "print(eigenvectors)\n",
        "print()\n",
        "inverse=np.linalg.inv(n_array)\n",
        "print(\"Inverse of Matrix:\")\n",
        "print()\n",
        "print(inverse)\n",
        "print()\n",
        "det=np.linalg.det(n_array)\n",
        "print(\"Determinant:\",det)"
      ],
      "metadata": {
        "colab": {
          "base_uri": "https://localhost:8080/"
        },
        "id": "_rmxuDHsEj8E",
        "outputId": "abbcfd66-e6d7-4ad9-f634-f25eca068f1a"
      },
      "execution_count": 45,
      "outputs": [
        {
          "output_type": "stream",
          "name": "stdout",
          "text": [
            "The sum of diagonal values are:  176\n",
            "\n",
            "Eigenvalues are:\n",
            "\n",
            "[98.16835147 28.097044   49.73460452]\n",
            "\n",
            "Eigenvectors are:\n",
            "\n",
            "[[ 0.4574917   0.34637121 -0.15017693]\n",
            " [ 0.28447814 -0.72784061 -0.4852124 ]\n",
            " [ 0.84248058  0.59184038  0.8614034 ]]\n",
            "\n",
            "Inverse of Matrix:\n",
            "\n",
            "[[ 0.02404141 -0.00911212 -0.00444671]\n",
            " [-0.01667882  0.02966905  0.0024785 ]\n",
            " [ 0.00631287 -0.01603732  0.01217379]]\n",
            "\n",
            "Determinant: 137180.0000000001\n"
          ]
        }
      ]
    },
    {
      "cell_type": "markdown",
      "source": [
        "g) Multiply the following matrices and also find covariance between matrices using NumPy:\n",
        "\n",
        "i. p = [[1, 2], [2, 3]]\n",
        "\n",
        "q = [[4, 5], [6, 7]]\n",
        "\n",
        "\n",
        "ii. p = [[1, 2], [2, 3], [4, 5]]\n",
        "\n",
        "q = [[4, 5, 1], [6, 7, 2]]\n"
      ],
      "metadata": {
        "id": "yrDSuHN5GHEe"
      }
    },
    {
      "cell_type": "code",
      "source": [
        "import numpy as np\n",
        "\n",
        "p=np.array([[1,2],[2,3]])\n",
        "q=np.array([[4,5],[6,7]])\n",
        "mul1=np.dot(p,q)\n",
        "print(\"Matrix Multiplication:\")\n",
        "print()\n",
        "print(mul1)\n",
        "cov1=np.cov(p.T, q.T)\n",
        "print(\"Covariance:\")\n",
        "print()\n",
        "print(cov1)\n",
        "\n"
      ],
      "metadata": {
        "colab": {
          "base_uri": "https://localhost:8080/"
        },
        "id": "BRiP7YAfGfvR",
        "outputId": "12fe5fdf-5eb4-4306-e6c0-fad458235513"
      },
      "execution_count": 50,
      "outputs": [
        {
          "output_type": "stream",
          "name": "stdout",
          "text": [
            "Matrix Multiplication:\n",
            "\n",
            "[[16 19]\n",
            " [26 31]]\n",
            "Covariance:\n",
            "\n",
            "[[0.5 0.5 1.  1. ]\n",
            " [0.5 0.5 1.  1. ]\n",
            " [1.  1.  2.  2. ]\n",
            " [1.  1.  2.  2. ]]\n"
          ]
        }
      ]
    },
    {
      "cell_type": "markdown",
      "source": [
        "h) For the matrices:\n",
        "\n",
        "x = np.array([[2, 3, 4], [3, 2, 9]]);\n",
        "\n",
        "y = np.array([[1, 5, 0], [5, 10, 3]]),\n",
        "\n",
        "find inner, outer and cartesian product?"
      ],
      "metadata": {
        "id": "R_ghbskyGQO7"
      }
    },
    {
      "cell_type": "code",
      "source": [
        "x=np.array([[2,3,4],[3,2,9]])\n",
        "y=np.array([[1,5,0],[5,10,3]])\n",
        "inner=np.inner(x,y)\n",
        "print(\"Inner Product:\\n\",inner)\n",
        "print()\n",
        "outer=np.outer(x,y)\n",
        "print(\"Outer Product:\\n\",outer)\n",
        "print()\n",
        "from itertools import product\n",
        "cartesian=np.array(list(product(x.flatten(),y.flatten())))\n",
        "print(\"Cartesian Product:\\n\",cartesian)"
      ],
      "metadata": {
        "colab": {
          "base_uri": "https://localhost:8080/"
        },
        "id": "x8L8oi3_HXyl",
        "outputId": "4ca15155-ca04-4300-cb4e-dedf70d92052"
      },
      "execution_count": 51,
      "outputs": [
        {
          "output_type": "stream",
          "name": "stdout",
          "text": [
            "Inner Product:\n",
            " [[17 52]\n",
            " [13 62]]\n",
            "\n",
            "Outer Product:\n",
            " [[ 2 10  0 10 20  6]\n",
            " [ 3 15  0 15 30  9]\n",
            " [ 4 20  0 20 40 12]\n",
            " [ 3 15  0 15 30  9]\n",
            " [ 2 10  0 10 20  6]\n",
            " [ 9 45  0 45 90 27]]\n",
            "\n",
            "Cartesian Product:\n",
            " [[ 2  1]\n",
            " [ 2  5]\n",
            " [ 2  0]\n",
            " [ 2  5]\n",
            " [ 2 10]\n",
            " [ 2  3]\n",
            " [ 3  1]\n",
            " [ 3  5]\n",
            " [ 3  0]\n",
            " [ 3  5]\n",
            " [ 3 10]\n",
            " [ 3  3]\n",
            " [ 4  1]\n",
            " [ 4  5]\n",
            " [ 4  0]\n",
            " [ 4  5]\n",
            " [ 4 10]\n",
            " [ 4  3]\n",
            " [ 3  1]\n",
            " [ 3  5]\n",
            " [ 3  0]\n",
            " [ 3  5]\n",
            " [ 3 10]\n",
            " [ 3  3]\n",
            " [ 2  1]\n",
            " [ 2  5]\n",
            " [ 2  0]\n",
            " [ 2  5]\n",
            " [ 2 10]\n",
            " [ 2  3]\n",
            " [ 9  1]\n",
            " [ 9  5]\n",
            " [ 9  0]\n",
            " [ 9  5]\n",
            " [ 9 10]\n",
            " [ 9  3]]\n"
          ]
        }
      ]
    },
    {
      "cell_type": "markdown",
      "source": [
        "Q2: Based on NumPy Mathematics and Statistics\n",
        "(a) For the array: array = np.array([[1, -2, 3],[-4, 5, -6]])\n",
        "\n",
        "i. Find element-wise absolute value\n",
        "\n",
        "ii. Find the 25th, 50th, and 75th percentile of flattened array, for each column, for each\n",
        "row.\n",
        "\n",
        "iii. Mean, Median and Standard Deviation of flattened array, of each column, and\n",
        "each row\n",
        "\n",
        "\n",
        "\n",
        "(b) For the array: a = np.array([-1.8, -1.6, -0.5, 0.5,1.6, 1.8, 3.0]).\n",
        "\n",
        "Find floor, ceiling\n",
        "and truncated value, rounded values"
      ],
      "metadata": {
        "id": "rY5H_Bo_HuXY"
      }
    },
    {
      "cell_type": "code",
      "source": [
        "import numpy as np\n",
        "array=np.array([[1,-2,3],[-4,5,-6]])\n",
        "abs_array=np.abs(array)\n",
        "print(\"Absolute Values:\\n\",abs_array)\n",
        "print()\n",
        "\n",
        "flat=array.flatten()\n",
        "print(\"Flattened Percentiles:\")\n",
        "print(\"25th:\",np.percentile(flat,25))\n",
        "print(\"50th:\",np.percentile(flat,50))  # median\n",
        "print(\"75th:\",np.percentile(flat,75))\n",
        "print()\n",
        "\n",
        "print(\"Column-wise Percentiles:\")\n",
        "print(\"25th:\",np.percentile(array,25,axis=0))\n",
        "print(\"50th:\",np.percentile(array,50,axis=0))\n",
        "print(\"75th:\",np.percentile(array,75,axis=0))\n",
        "print()\n",
        "\n",
        "print(\"Row-wise Percentiles:\")\n",
        "print(\"25th:\", np.percentile(array,25,axis=1))\n",
        "print(\"50th:\", np.percentile(array,50,axis=1))\n",
        "print(\"75th:\", np.percentile(array,75,axis=1))\n",
        "print()\n",
        "\n",
        "print(\"Mean (Flattened):\",np.mean(flat))\n",
        "print(\"Median (Flattened):\",np.median(flat))\n",
        "print(\"Std Dev (Flattened):\",np.std(flat))\n",
        "print()\n",
        "\n",
        "print(\"Mean (Column-wise):\",np.mean(array,axis=0))\n",
        "print(\"Median (Column-wise):\",np.median(array,axis=0))\n",
        "print(\"Std Dev (Column-wise):\",np.std(array,axis=0))\n",
        "print()\n",
        "\n",
        "print(\"Mean (Row-wise):\",np.mean(array,axis=1))\n",
        "print(\"Median (Row-wise):\",np.median(array,axis=1))\n",
        "print(\"Std Dev (Row-wise):\",np.std(array,axis=1))\n"
      ],
      "metadata": {
        "colab": {
          "base_uri": "https://localhost:8080/"
        },
        "id": "MVcGBfzaHzxM",
        "outputId": "f9571c8c-277d-4fba-9cd0-7124e57e0a4e"
      },
      "execution_count": 52,
      "outputs": [
        {
          "output_type": "stream",
          "name": "stdout",
          "text": [
            "Absolute Values:\n",
            " [[1 2 3]\n",
            " [4 5 6]]\n",
            "\n",
            "Flattened Percentiles:\n",
            "25th: -3.5\n",
            "50th: -0.5\n",
            "75th: 2.5\n",
            "\n",
            "Column-wise Percentiles:\n",
            "25th: [-2.75 -0.25 -3.75]\n",
            "50th: [-1.5  1.5 -1.5]\n",
            "75th: [-0.25  3.25  0.75]\n",
            "\n",
            "Row-wise Percentiles:\n",
            "25th: [-0.5 -5. ]\n",
            "50th: [ 1. -4.]\n",
            "75th: [2.  0.5]\n",
            "\n",
            "Mean (Flattened): -0.5\n",
            "Median (Flattened): -0.5\n",
            "Std Dev (Flattened): 3.8622100754188224\n",
            "\n",
            "Mean (Column-wise): [-1.5  1.5 -1.5]\n",
            "Median (Column-wise): [-1.5  1.5 -1.5]\n",
            "Std Dev (Column-wise): [2.5 3.5 4.5]\n",
            "\n",
            "Mean (Row-wise): [ 0.66666667 -1.66666667]\n",
            "Median (Row-wise): [ 1. -4.]\n",
            "Std Dev (Row-wise): [2.05480467 4.78423336]\n"
          ]
        }
      ]
    },
    {
      "cell_type": "markdown",
      "source": [
        "Q3: Based on Searching and Sorting\n",
        "\n",
        "(a) For the array: array = np.array([10, 52, 62, 16, 16, 54, 453]), find\n",
        "\n",
        "i. Sorted array\n",
        "\n",
        "ii. Indices of sorted array\n",
        "\n",
        "iii. 4 smallest elements\n",
        "\n",
        "iv. 5 largest elements\n",
        "\n",
        "\n",
        "\n",
        "(b) For the array: array = np.array([1.0, 1.2, 2.2, 2.0, 3.0, 2.0]), find\n",
        "\n",
        "i. Integer elements only\n",
        "\n",
        "ii. Float elements only"
      ],
      "metadata": {
        "id": "qH_DbUp_Iphk"
      }
    },
    {
      "cell_type": "code",
      "source": [
        "import numpy as np\n",
        "array = np.array([10, 52, 62, 16, 16, 54, 453])\n",
        "print(\"Sorted:\", np.sort(array))\n",
        "print()\n",
        "print(\"Sorted Indices:\", np.argsort(array))\n",
        "print()\n",
        "print(\"4 Smallest:\", np.sort(array)[:4])\n",
        "print()\n",
        "print(\"5 Largest:\", np.sort(array)[-5:])\n",
        "print()\n",
        "print()\n",
        "\n",
        "\n",
        "array = np.array([1.0, 1.2, 2.2, 2.0, 3.0, 2.0])\n",
        "ints = array[array == array.astype(int)]\n",
        "floats = array[array != array.astype(int)]\n",
        "print(\"Integer Elements:\", ints)\n",
        "print()\n",
        "print(\"Float Elements:\", floats)\n",
        "print()"
      ],
      "metadata": {
        "colab": {
          "base_uri": "https://localhost:8080/"
        },
        "id": "qXB4eyK6I4X3",
        "outputId": "577659d0-af90-4cb4-978f-1c4a6d1d656a"
      },
      "execution_count": 56,
      "outputs": [
        {
          "output_type": "stream",
          "name": "stdout",
          "text": [
            "Sorted: [ 10  16  16  52  54  62 453]\n",
            "\n",
            "Sorted Indices: [0 3 4 1 5 2 6]\n",
            "\n",
            "4 Smallest: [10 16 16 52]\n",
            "\n",
            "5 Largest: [ 16  52  54  62 453]\n",
            "\n",
            "\n",
            "Integer Elements: [1. 2. 3. 2.]\n",
            "\n",
            "Float Elements: [1.2 2.2]\n",
            "\n"
          ]
        }
      ]
    },
    {
      "cell_type": "markdown",
      "source": [
        "Q4\n",
        "\n",
        "a) Write a function named img_to_array(path) that reads an image from a specified path and\n",
        "save it as text file on local machine? (Note: use separate cases for RGB and Grey Scale\n",
        "images)\n",
        "\n",
        "b) Load the saved file into jupyter notebook"
      ],
      "metadata": {
        "id": "aMebIF6ZJbEM"
      }
    },
    {
      "cell_type": "code",
      "source": [
        "from PIL import Image\n",
        "import numpy as np\n",
        "\n",
        "def img_to_array(path):\n",
        "    img=Image.open(path)\n",
        "    arr=np.array(img)\n",
        "    if len(arr.shape)==2:\n",
        "        np.savetxt(\"grayscale_image.txt\",arr,fmt='%d')\n",
        "    else:\n",
        "        np.savetxt(\"rgb_image.txt\",arr.reshape(-1,arr.shape[2]),fmt='%d')\n",
        "\n",
        "\n",
        "gray = np.loadtxt(\"grayscale_image.txt\", dtype=int)\n",
        "rgb = np.loadtxt(\"rgb_image.txt\", dtype=int)\n"
      ],
      "metadata": {
        "id": "wAwXP56D6vxG"
      },
      "execution_count": null,
      "outputs": []
    }
  ]
}